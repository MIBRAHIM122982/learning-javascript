{
  "nbformat": 4,
  "nbformat_minor": 0,
  "metadata": {
    "colab": {
      "provenance": [],
      "collapsed_sections": [],
      "authorship_tag": "ABX9TyNRv5xRpU+HVqFY3UwLLEr3",
      "include_colab_link": true
    },
    "kernelspec": {
      "name": "python3",
      "display_name": "Python 3"
    },
    "language_info": {
      "name": "python"
    }
  },
  "cells": [
    {
      "cell_type": "markdown",
      "metadata": {
        "id": "view-in-github",
        "colab_type": "text"
      },
      "source": [
        "<a href=\"https://colab.research.google.com/github/MIBRAHIM122982/learning-javascript/blob/main/2018ee323(p1).ipynb\" target=\"_parent\"><img src=\"https://colab.research.google.com/assets/colab-badge.svg\" alt=\"Open In Colab\"/></a>"
      ]
    },
    {
      "cell_type": "code",
      "execution_count": 3,
      "metadata": {
        "colab": {
          "base_uri": "https://localhost:8080/"
        },
        "id": "Wu9eW7GBCiyc",
        "outputId": "d00eb1a8-dc68-457f-ce33-ca0827cf0843"
      },
      "outputs": [
        {
          "output_type": "stream",
          "name": "stdout",
          "text": [
            "3.1622776601683795\n"
          ]
        }
      ],
      "source": [
        "import numpy as np\n",
        "p1= np.array([1,3])\n",
        "p2=np.array([4,2])\n",
        "d=np.linalg.norm(p2-p1)\n",
        "print(d)"
      ]
    },
    {
      "cell_type": "code",
      "source": [
        "def clip_loops(A):\n",
        "  for i in range(A.shape[0]):\n",
        "    for j in range(A.shape[1]):\n",
        "      if (A[i,j] > 1):\n",
        "        A[i,j] = 1\n",
        "      elif (A[i,j] < 0):\n",
        "        A[i,j] = 0\n",
        "\n",
        "  return A"
      ],
      "metadata": {
        "id": "weFGjiKPFvrq"
      },
      "execution_count": 4,
      "outputs": []
    },
    {
      "cell_type": "code",
      "source": [
        "import numpy as np\n",
        "\n",
        "X = np.random.normal(size=(5000,784))*1.5\n",
        "\n",
        "X1 = clip_loops(X)\n",
        "X2 = np.clip(X,0,1)\n",
        "\n",
        "print(np.sum((X1-X2)*(X1-X2)))\n",
        "\n",
        "%timeit clip_loops(X)\n",
        "%timeit np.clip(X,0,1)"
      ],
      "metadata": {
        "colab": {
          "base_uri": "https://localhost:8080/"
        },
        "id": "3_1b4gn5HD3Y",
        "outputId": "cf086d5b-c2c3-4a7a-c82d-deef731d3216"
      },
      "execution_count": 5,
      "outputs": [
        {
          "output_type": "stream",
          "name": "stdout",
          "text": [
            "0.0\n",
            "3 s ± 29.3 ms per loop (mean ± std. dev. of 7 runs, 1 loop each)\n",
            "11.6 ms ± 1.91 ms per loop (mean ± std. dev. of 7 runs, 100 loops each)\n"
          ]
        }
      ]
    }
  ]
}